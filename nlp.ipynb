{
 "cells": [
  {
   "cell_type": "code",
   "id": "initial_id",
   "metadata": {
    "collapsed": true,
    "ExecuteTime": {
     "end_time": "2025-02-18T20:10:43.999582Z",
     "start_time": "2025-02-18T20:10:43.995583Z"
    }
   },
   "source": [
    "# Libraries\n",
    "import spacy\n",
    "from spacy.lang.am.examples import sentences"
   ],
   "outputs": [],
   "execution_count": 64
  },
  {
   "metadata": {
    "ExecuteTime": {
     "end_time": "2025-02-18T20:10:44.028830Z",
     "start_time": "2025-02-18T20:10:44.025371Z"
    }
   },
   "cell_type": "code",
   "source": [
    "\"\"\"\n",
    "# Initial download of model - this only needs to be run ONCE\n",
    "!python -m spacy download en_core_web_sm\n",
    "\"\"\"\""
   ],
   "id": "a416da079a1509aa",
   "outputs": [
    {
     "ename": "SyntaxError",
     "evalue": "unterminated string literal (detected at line 4) (1766002328.py, line 4)",
     "output_type": "error",
     "traceback": [
      "\u001B[1;36m  Cell \u001B[1;32mIn[65], line 4\u001B[1;36m\u001B[0m\n\u001B[1;33m    \"\"\"\"\u001B[0m\n\u001B[1;37m       ^\u001B[0m\n\u001B[1;31mSyntaxError\u001B[0m\u001B[1;31m:\u001B[0m unterminated string literal (detected at line 4)\n"
     ]
    }
   ],
   "execution_count": 65
  },
  {
   "metadata": {
    "ExecuteTime": {
     "end_time": "2025-02-18T20:10:44.035363600Z",
     "start_time": "2025-02-18T19:44:16.139905Z"
    }
   },
   "cell_type": "code",
   "source": [
    "# Initialise the spaCy engine\n",
    "# en_core_web_sm is a pre-trained model that knows English grammar and vocabulary\n",
    "nlp = spacy.load(\"en_core_web_sm\")"
   ],
   "id": "6d2e9fb252b9ecf0",
   "outputs": [],
   "execution_count": 46
  },
  {
   "metadata": {
    "ExecuteTime": {
     "end_time": "2025-02-18T20:10:44.035363600Z",
     "start_time": "2025-02-18T19:44:17.647102Z"
    }
   },
   "cell_type": "code",
   "source": [
    "# Define the user query\n",
    "query = \"I want to know what binary is. Does it work like normal numbers? Is it used in programming?\""
   ],
   "id": "d68febe9e4f3f88e",
   "outputs": [],
   "execution_count": 47
  },
  {
   "metadata": {
    "ExecuteTime": {
     "end_time": "2025-02-18T20:10:44.036368300Z",
     "start_time": "2025-02-18T19:44:18.428033Z"
    }
   },
   "cell_type": "code",
   "source": [
    "\"\"\"\n",
    "Cleans and preprocesses the search query by:\n",
    "- Lowercasing\n",
    "- Removing stopwords\n",
    "- Removing punctuation\n",
    "- Lemmatising words\n",
    "\n",
    "This:\n",
    "- Ensures efficient processing\n",
    "- Removes unimportant words\n",
    "- Extracts relevant words\n",
    "\"\"\"\n",
    "def preprocess_query(query):\n",
    "    # Convert the query to lowercase\n",
    "    query = query.lower()\n",
    "    # Process the query with spaCy\n",
    "    query_processed = nlp(query)\n",
    "    # Tokenise the query and store in list\n",
    "    query_tokens = [query_token.lemma_ for query_token in query_processed if not query_token.is_stop and not query_token.is_punct]\n",
    "    \n",
    "    # Return a list of important words\n",
    "    return query_tokens\n",
    "\n",
    "preprocessed_query = preprocess_query(query)\n",
    "print(preprocessed_query)"
   ],
   "id": "f034da23c1fa106f",
   "outputs": [
    {
     "name": "stdout",
     "output_type": "stream",
     "text": [
      "['want', 'know', 'binary', 'work', 'like', 'normal', 'number', 'programming']\n"
     ]
    }
   ],
   "execution_count": 48
  },
  {
   "metadata": {
    "ExecuteTime": {
     "end_time": "2025-02-18T20:10:44.036368300Z",
     "start_time": "2025-02-18T19:44:19.451093Z"
    }
   },
   "cell_type": "code",
   "source": [
    "\"\"\"\n",
    "Named Entity Recognition (NER) to extract key topics.\n",
    "Extracts named entities (like AI, ML, Python) from the given text.\n",
    "\"\"\"\n",
    "def extract_entities(query):\n",
    "    # Identify key topics from a query using spaCy's Named Entity Recognition (NER)\n",
    "    query = nlp(query)\n",
    "    query_entities = {ent.text: ent.label_ for ent in query.ents}\n",
    "    \n",
    "    return query_entities\n",
    "\n",
    "print(extract_entities(query))"
   ],
   "id": "bc88a599c7e8e5fb",
   "outputs": [
    {
     "name": "stdout",
     "output_type": "stream",
     "text": [
      "{}\n"
     ]
    }
   ],
   "execution_count": 49
  },
  {
   "metadata": {
    "ExecuteTime": {
     "end_time": "2025-02-18T20:10:44.036368300Z",
     "start_time": "2025-02-18T19:55:52.700569Z"
    }
   },
   "cell_type": "code",
   "source": [
    "import sqlite3\n",
    "\n",
    "# Connect to the database\n",
    "conn = sqlite3.connect(\"database.db\")\n",
    "cursor = conn.cursor()\n",
    "\n",
    "# Fetch all keywords from the relevant table\n",
    "cursor.execute(\"SELECT category_title FROM syllabus_categories\")  # Modify if needed\n",
    "rows = cursor.fetchall()\n",
    "\n",
    "# Convert to a list of strings\n",
    "gcse_keywords = [row[0] for row in rows]\n",
    "\n",
    "# Close the connection\n",
    "conn.close()\n",
    "\n",
    "print(\"GCSE Keywords:\", gcse_keywords)"
   ],
   "id": "b0b4d4d750fa585c",
   "outputs": [
    {
     "name": "stdout",
     "output_type": "stream",
     "text": [
      "GCSE Keywords: ['Computer systems', 'Data representation', 'Boolean logic', 'Algorithmic thinking', 'Programming', 'Databases', 'Productivity software', 'Solution development', 'Testing', 'Computer networks', 'Security', 'Impacts', 'Digital authoring', 'Electronics']\n"
     ]
    }
   ],
   "execution_count": 58
  },
  {
   "metadata": {
    "ExecuteTime": {
     "end_time": "2025-02-18T20:10:44.036368300Z",
     "start_time": "2025-02-18T19:44:21.694004Z"
    }
   },
   "cell_type": "code",
   "source": [
    "\"\"\"\n",
    "# Define a dictionary of keywords that are likely to be in the user's query\n",
    "gcse_keywords = {\n",
    "    \"binary\": \"Data Representation\",\n",
    "    \"IP address\": \"Networking\",\n",
    "    \"algorithm\": \"Programming\",\n",
    "    \"network\": \"Networking\",\n",
    "    \"encryption\": \"Cybersecurity\",\n",
    "    \"CPU\": \"Hardware\",\n",
    "    \"RAM\": \"Hardware\"\n",
    "}\n",
    "\"\"\""
   ],
   "id": "fc0081fb4e677640",
   "outputs": [
    {
     "data": {
      "text/plain": [
       "'\\n# Define a dictionary of keywords that are likely to be in the user\\'s query\\ngcse_keywords = {\\n    \"binary\": \"Data Representation\",\\n    \"IP address\": \"Networking\",\\n    \"algorithm\": \"Programming\",\\n    \"network\": \"Networking\",\\n    \"encryption\": \"Cybersecurity\",\\n    \"CPU\": \"Hardware\",\\n    \"RAM\": \"Hardware\"\\n}\\n'"
      ]
     },
     "execution_count": 51,
     "metadata": {},
     "output_type": "execute_result"
    }
   ],
   "execution_count": 51
  },
  {
   "metadata": {
    "ExecuteTime": {
     "end_time": "2025-02-18T20:10:44.036368300Z",
     "start_time": "2025-02-18T19:56:12.469102Z"
    }
   },
   "cell_type": "code",
   "source": [
    "\"\"\"\n",
    "\n",
    "This helps categorise the query and ensures accurate search results.\n",
    "\"\"\"\n",
    "def match_gcse_keywords(query):\n",
    "    \"\"\"\n",
    "    Matches the query against predefined GCSE Computer Science keywords.\n",
    "    \"\"\"\n",
    "    query_tokens = preprocess_query(query)\n",
    "    matched_keywords = {word: gcse_keywords[word] for word in query_tokens if word in gcse_keywords}\n",
    "    return matched_keywords\n",
    "\n",
    "query_keywords = match_gcse_keywords(query)\n",
    "print(query_keywords)"
   ],
   "id": "88d094648b0a8b3a",
   "outputs": [
    {
     "name": "stdout",
     "output_type": "stream",
     "text": [
      "{}\n"
     ]
    }
   ],
   "execution_count": 60
  },
  {
   "metadata": {
    "ExecuteTime": {
     "end_time": "2025-02-18T20:10:44.036368300Z",
     "start_time": "2025-02-18T19:56:40.570204Z"
    }
   },
   "cell_type": "code",
   "source": [
    "\"\"\"\n",
    "Understand query intent using dependency parsing\n",
    "\n",
    "\"\"\"\n",
    "def analyse_query_structure(query):\n",
    "    \"\"\"\n",
    "    Analyses the structure of a query to understand intent.\n",
    "    \"\"\"\n",
    "    doc = nlp(query)\n",
    "    for token in doc:\n",
    "        print(f\"{token.text} → {token.dep_} (Head: {token.head.text})\")\n",
    "\n",
    "query_structure = analyse_query_structure(query)\n",
    "print(query_structure)"
   ],
   "id": "121b8e9fa9133295",
   "outputs": [
    {
     "name": "stdout",
     "output_type": "stream",
     "text": [
      "I → nsubj (Head: want)\n",
      "want → ROOT (Head: want)\n",
      "to → aux (Head: know)\n",
      "know → xcomp (Head: want)\n",
      "what → det (Head: binary)\n",
      "binary → attr (Head: is)\n",
      "is → ccomp (Head: know)\n",
      ". → punct (Head: want)\n",
      "Does → aux (Head: work)\n",
      "it → nsubj (Head: work)\n",
      "work → ROOT (Head: work)\n",
      "like → prep (Head: work)\n",
      "normal → amod (Head: numbers)\n",
      "numbers → pobj (Head: like)\n",
      "? → punct (Head: work)\n",
      "Is → auxpass (Head: used)\n",
      "it → nsubjpass (Head: used)\n",
      "used → ROOT (Head: used)\n",
      "in → prep (Head: used)\n",
      "programming → pobj (Head: in)\n",
      "? → punct (Head: used)\n",
      "None\n"
     ]
    }
   ],
   "execution_count": 61
  },
  {
   "metadata": {
    "ExecuteTime": {
     "end_time": "2025-02-18T20:10:44.036368300Z",
     "start_time": "2025-02-18T19:56:44.062777Z"
    }
   },
   "cell_type": "code",
   "source": [
    "# Expand the search beyond exact keywords\n",
    "def get_similar_words(word):\n",
    "    \"\"\"\n",
    "    Finds words similar to a given word using word vectors.\n",
    "    \"\"\"\n",
    "    word_vector = nlp(word)\n",
    "    similar_words = [token.text for token in nlp.vocab if token.has_vector and word_vector.similarity(nlp(token.text)) > 0.7]\n",
    "    return similar_words[:5]  # Return top 5 similar words\n",
    "\n",
    "# Example\n",
    "print(get_similar_words(\"binary\"))"
   ],
   "id": "6d1ec22cf9b45137",
   "outputs": [
    {
     "name": "stdout",
     "output_type": "stream",
     "text": [
      "[]\n"
     ]
    }
   ],
   "execution_count": 62
  },
  {
   "metadata": {
    "ExecuteTime": {
     "end_time": "2025-02-18T20:10:44.036368300Z",
     "start_time": "2025-02-18T19:56:46.166845Z"
    }
   },
   "cell_type": "code",
   "source": [
    "\"\"\"\n",
    "Combine everything into a query processing function\n",
    "\"\"\"\n",
    "def process_user_query(query):\n",
    "    \"\"\"\n",
    "    Processes a user's query to extract key concepts and categorise it.\n",
    "    \"\"\"\n",
    "    keywords = preprocess_query(query)  # Step 1: Preprocessing\n",
    "    entities = extract_entities(query)  # Step 2: Named Entity Recognition\n",
    "    matched_gcse_terms = match_gcse_keywords(query)  # Step 3: GCSE Keyword Matching\n",
    "\n",
    "    return {\n",
    "        \"cleaned_query\": keywords,\n",
    "        \"extracted_entities\": entities,\n",
    "        \"matched_gcse_topics\": matched_gcse_terms\n",
    "    }\n",
    "\n",
    "print(process_user_query(query))"
   ],
   "id": "c858d49bcbddf63c",
   "outputs": [
    {
     "name": "stdout",
     "output_type": "stream",
     "text": [
      "{'cleaned_query': ['want', 'know', 'binary', 'work', 'like', 'normal', 'number', 'programming'], 'extracted_entities': {}, 'matched_gcse_topics': {}}\n"
     ]
    }
   ],
   "execution_count": 63
  },
  {
   "metadata": {
    "ExecuteTime": {
     "end_time": "2025-02-18T20:10:44.036368300Z",
     "start_time": "2025-02-18T17:33:43.293059Z"
    }
   },
   "cell_type": "code",
   "source": "",
   "id": "941f576eedfff0df",
   "outputs": [],
   "execution_count": null
  }
 ],
 "metadata": {
  "kernelspec": {
   "display_name": "Python 3",
   "language": "python",
   "name": "python3"
  },
  "language_info": {
   "codemirror_mode": {
    "name": "ipython",
    "version": 2
   },
   "file_extension": ".py",
   "mimetype": "text/x-python",
   "name": "python",
   "nbconvert_exporter": "python",
   "pygments_lexer": "ipython2",
   "version": "2.7.6"
  }
 },
 "nbformat": 4,
 "nbformat_minor": 5
}
